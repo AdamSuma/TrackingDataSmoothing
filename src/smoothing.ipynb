{
 "cells": [
  {
   "cell_type": "code",
   "execution_count": 624,
   "metadata": {},
   "outputs": [],
   "source": [
    "# %matplotlib widget\n",
    "\n",
    "import matplotlib.pyplot as plt\n",
    "import numpy as np\n",
    "from scipy.interpolate import CubicSpline\n",
    "from mplsoccer.pitch import Pitch\n",
    "import json\n",
    "from matplotlib.animation import FuncAnimation\n",
    "import sympy as sp\n",
    "from sympy import Point, Circle, Eq\n",
    "import math\n"
   ]
  },
  {
   "cell_type": "code",
   "execution_count": 625,
   "metadata": {},
   "outputs": [],
   "source": [
    "def read_json_partially(file_path, start_line, end_line):\n",
    "    data = []  # List to store extracted JSON objects\n",
    "\n",
    "    with open(file_path, 'r') as file:\n",
    "        for line_num, line in enumerate(file):\n",
    "            if line_num >= start_line and line_num <= end_line:\n",
    "                # Parse JSON from the line and append it to data\n",
    "                data.append(json.loads(line))\n",
    "            elif line_num > end_line:\n",
    "                break  # Stop reading once end_line is reached\n",
    "\n",
    "    return data\n"
   ]
  },
  {
   "cell_type": "code",
   "execution_count": 626,
   "metadata": {},
   "outputs": [],
   "source": [
    "file_path = '../data/matches/vs FC Lugano/2023-12-06_ReSpo Vision_FC Lugano - FC Basel.jsonl'\n",
    "start_line = 7500  # Start line number\n",
    "end_line = 7580  # End line number \n",
    "\n",
    "partialframes = read_json_partially(file_path, start_line, end_line)"
   ]
  },
  {
   "cell_type": "code",
   "execution_count": 627,
   "metadata": {},
   "outputs": [],
   "source": [
    "target = 27\n",
    "playerFrames = list(map(lambda x: x['players'], partialframes))\n",
    "targetPositions = []\n",
    "\n",
    "for index, frame in enumerate(playerFrames):\n",
    "    if(index % 1 != 0): # We consider only every n-th frame\n",
    "        continue\n",
    "\n",
    "    player = list(filter(lambda player: player['person_id'] == target, frame))[0]\n",
    "    targetPositions.append((player['x'], player['y']))\n"
   ]
  },
  {
   "cell_type": "code",
   "execution_count": 628,
   "metadata": {},
   "outputs": [],
   "source": [
    "# takes as input array of length 3\n",
    "def getCircle(points):\n",
    "    assert(len(points) == 3)\n",
    "    x1, y1 = points[0]\n",
    "    x2, y2 = points[1]\n",
    "    x3, y3 = points[2]\n",
    "    s1 = x1**2 + y1**2\n",
    "    s2 = x2**2 + y2**2\n",
    "    s3 = x3**2 + y3**2\n",
    "    M11 = x1*y2 + x2*y3 + x3*y1 - (x2*y1 + x3*y2 + x1*y3)\n",
    "    M12 = s1*y2 + s2*y3 + s3*y1 - (s2*y1 + s3*y2 + s1*y3)\n",
    "    M13 = s1*x2 + s2*x3 + s3*x1 - (s2*x1 + s3*x2 + s1*x3)\n",
    "    x0 =  0.5*M12/M11\n",
    "    y0 = -0.5*M13/M11\n",
    "    r0 = ((x1 - x0)**2 + (y1 - y0)**2)**0.5\n",
    "    return ((x0, y0), r0)"
   ]
  },
  {
   "cell_type": "markdown",
   "metadata": {},
   "source": [
    "source: https://paulbourke.net/geometry/circlesphere/"
   ]
  },
  {
   "cell_type": "code",
   "execution_count": 629,
   "metadata": {},
   "outputs": [],
   "source": [
    "def getCircleIntersections(c0, r0, c1, r1):\n",
    "    x0, y0 = c0\n",
    "    x1, y1 = c1\n",
    "    d = math.sqrt((x1-x0)**2 + (y1-y0)**2)\n",
    "    \n",
    "    # non intersecting\n",
    "    if d > r0 + r1 :\n",
    "        return None\n",
    "    # One circle within other\n",
    "    if d < abs(r0-r1):\n",
    "        return None\n",
    "    # coincident circles\n",
    "    if d == 0 and r0 == r1:\n",
    "        return None\n",
    "    else:\n",
    "        a=(r0**2-r1**2+d**2)/(2*d)\n",
    "        h=math.sqrt(r0**2-a**2)\n",
    "        x2=x0+a*(x1-x0)/d   \n",
    "        y2=y0+a*(y1-y0)/d   \n",
    "        x3=x2+h*(y1-y0)/d     \n",
    "        y3=y2-h*(x1-x0)/d \n",
    "\n",
    "        x4=x2-h*(y1-y0)/d\n",
    "        y4=y2+h*(x1-x0)/d\n",
    "        \n",
    "        return ((x3, y3), (x4, y4))"
   ]
  },
  {
   "cell_type": "code",
   "execution_count": 630,
   "metadata": {},
   "outputs": [],
   "source": [
    "def euclidianDistance(p1, p2):\n",
    "    return math.sqrt((p1[0]-p2[0])**2 + (p1[1]-p2[1])**2)"
   ]
  },
  {
   "cell_type": "code",
   "execution_count": 631,
   "metadata": {},
   "outputs": [],
   "source": [
    "def closestPoint(p1, p2, p3, p4):\n",
    "    if(euclidianDistance(p1, p3) + euclidianDistance(p1, p4) < euclidianDistance(p2, p3) + euclidianDistance(p2, p4)):\n",
    "        return p1\n",
    "    else:\n",
    "        return p2"
   ]
  },
  {
   "cell_type": "code",
   "execution_count": 632,
   "metadata": {},
   "outputs": [],
   "source": [
    "def areCollinear(p1, p2, p3):\n",
    "    matrix = np.array([[p1[0], p1[1], 1],\n",
    "                       [p2[0], p2[1], 1],\n",
    "                       [p3[0], p3[1], 1]])\n",
    "    det = np.linalg.det(matrix)\n",
    "    return np.isclose(det, 0)"
   ]
  },
  {
   "cell_type": "code",
   "execution_count": 633,
   "metadata": {},
   "outputs": [],
   "source": [
    "def midPoint(p1, p2):\n",
    "    return ((p1[0] + p2[0])/2, (p1[1] + p2[1])/2)"
   ]
  },
  {
   "cell_type": "code",
   "execution_count": 634,
   "metadata": {},
   "outputs": [],
   "source": [
    "def computeNewPoints(trajectory):\n",
    "    new_points = []\n",
    "    n = len(trajectory)\n",
    "\n",
    "    for i in range(1, n-2):\n",
    "        if(i == 1):\n",
    "            p1 = trajectory[i]\n",
    "            p2 = trajectory[i+1]\n",
    "            col1 = areCollinear(trajectory[i-1], p1, p2)            \n",
    "        else:\n",
    "            p1 = p2\n",
    "            c1 = c2\n",
    "            r1 = r2\n",
    "            col1 = col2\n",
    "    \n",
    "        p2 = trajectory[i+1]\n",
    "        M = midPoint(p1, p2)\n",
    "        \n",
    "        # handling collinear points\n",
    "        col2 = areCollinear(trajectory[i+2], p1, p2)\n",
    "\n",
    "        if(not(col1 or col2)):\n",
    "            if(i == 1):\n",
    "                c1, r1 = getCircle(trajectory[i-1: i+2])\n",
    "            c2, r2 = getCircle(trajectory[i: i+3])\n",
    "            r = 2/(1/r1 + 1/r2)\n",
    "\n",
    "        elif(col1 and col2):\n",
    "            new_point = M\n",
    "            new_points.append(new_point)\n",
    "            continue\n",
    "\n",
    "        elif(col1):\n",
    "            c2, r2 = getCircle(trajectory[i: i+3])\n",
    "            c1 = (0, 0)\n",
    "            r1 = float('inf')\n",
    "            r = 2/(1/r2)\n",
    "\n",
    "        elif(col2):\n",
    "            if(i == 1):\n",
    "                c1, r1 = getCircle(trajectory[i-1: i+2])\n",
    "            c2 = (0, 0)\n",
    "            r2 = float('inf')\n",
    "            r = 2/(1/r1)\n",
    "\n",
    "        # intersecting the averaging circles\n",
    "        c_avg1, c_avg2 = getCircleIntersections(p1, r, p2, r)\n",
    "\n",
    "        # if different oriented curvature in the sequential circles than take the shape of the one with the smallest radius\n",
    "        min_c = c1 if r1 < r2 else c2\n",
    "        c_avg = c_avg1 if euclidianDistance(c_avg1, min_c) < euclidianDistance(c_avg2, min_c) else c_avg2\n",
    "        \n",
    "        # computing new point\n",
    "        d = r/euclidianDistance(M, c_avg)\n",
    "        new_point_1 = np.array(c_avg) + (np.array(M)-np.array(c_avg))*d\n",
    "        new_point_2 = np.array(c_avg) + (np.array(M)-np.array(c_avg))*(-d)\n",
    "\n",
    "        new_point = closestPoint(new_point_1, new_point_2, p1, p2)\n",
    "        \n",
    "        new_points.append(new_point)\n",
    "        \n",
    "        # PLOTTING STUFF ----------------------------------------------------------------------------------------------------\n",
    "\n",
    "        # plt.scatter(p1[0], p1[1], color=\"black\", marker=\"o\")\n",
    "        # plt.scatter(new_point[0], new_point[1], color=\"red\", marker=\"o\", s=30)\n",
    "\n",
    "        # circle = plt.Circle(c1, r1, fill=False, edgecolor=\"green\" if i % 2 == 0 else \"red\")\n",
    "        # circle2 = plt.Circle(c_avg, r, fill=False, edgecolor=\"blue\")\n",
    "\n",
    "        # ax.add_patch(circle)\n",
    "        # ax.add_patch(circle2)\n",
    "\n",
    "    return new_points\n"
   ]
  },
  {
   "cell_type": "code",
   "execution_count": 635,
   "metadata": {},
   "outputs": [],
   "source": [
    "def performSmoothing(trajectory, iterations):\n",
    "    for it in range(0, iterations):\n",
    "        for i in range(0, 2):\n",
    "            # compute extension points at the beginning/end of the trajectory\n",
    "            pFirst = (2*trajectory[0][0] - trajectory[1][0], 2*trajectory[0][1] - trajectory[1][1])\n",
    "            pLast = (2*trajectory[-1][0] - trajectory[-2][0], 2*trajectory[-1][1] - trajectory[-2][1])\n",
    "            midFirst = midPoint(pFirst, trajectory[0])\n",
    "            midLast = midPoint(trajectory[-1], pLast)\n",
    "            \n",
    "            if(i % 2 != 0):\n",
    "                og = trajectory.copy()\n",
    "                updated_traj = computeNewPoints([midFirst] + new_points + [midLast])\n",
    "                trajectory = [og[0]] + updated_traj + [og[-1]]\n",
    "            else:\n",
    "                new_points = computeNewPoints([pFirst] + trajectory + [pLast])\n",
    "    return (trajectory, new_points)"
   ]
  },
  {
   "cell_type": "markdown",
   "metadata": {},
   "source": [
    "We partially read the big Frame file with the following function"
   ]
  },
  {
   "cell_type": "markdown",
   "metadata": {},
   "source": [
    "Current file has granularity of **40ms**"
   ]
  },
  {
   "cell_type": "markdown",
   "metadata": {},
   "source": []
  },
  {
   "cell_type": "markdown",
   "metadata": {},
   "source": [
    "We extract trajectory of targeted player by **ID**"
   ]
  },
  {
   "cell_type": "code",
   "execution_count": 636,
   "metadata": {},
   "outputs": [
    {
     "data": {
      "image/png": "[encoded data removed]",
      "text/plain": [
       "<Figure size 1000x2000 with 1 Axes>"
      ]
     },
     "metadata": {},
     "output_type": "display_data"
    }
   ],
   "source": [
    "pitch = Pitch(axis=True, label=True, tick=True)\n",
    "# specifying figure size (width, height)\n",
    "fig, ax = pitch.draw(figsize=(10, 20))\n",
    "\n",
    "x, y = zip(*targetPositions)\n",
    "ax.scatter(x, y, color='black', marker='o', s=20)\n",
    "\n",
    "# ax.set_xlim(50, 70) \n",
    "# ax.set_ylim(40, 10)\n",
    "\n",
    "ax.set_xlim(52.5, 60) \n",
    "ax.set_ylim(40, 30)\n",
    "\n",
    "# ax.set_xlim(30, 43) \n",
    "# ax.set_ylim(40, 30)\n",
    "\n",
    "traj, new_points = performSmoothing(trajectory=targetPositions, iterations=300)\n",
    "x, y = zip(*(traj))\n",
    "\n",
    "for idx, t in enumerate(traj):\n",
    "    ax.scatter(t[0], t[1], color=\"red\", marker=\"o\", s=10)\n",
    "    # ax.text(t[0], t[1], f'({idx})')\n",
    "\n",
    "pFirst = (2*traj[0][0] - traj[1][0], 2*traj[0][1] - traj[1][1])\n",
    "pLast = (2*traj[-1][0] - traj[-2][0], 2*traj[-1][1] - traj[-2][1])\n",
    "ax.scatter(pFirst[0], pFirst[1], color=\"green\", marker=\"x\", s=10)\n",
    "ax.scatter(pLast[0], pLast[1], color=\"green\", marker=\"x\", s=10)\n",
    "\n",
    "# x, y = zip(*(new_points))\n",
    "# ax.scatter(x, y, color=\"green\", marker=\"o\", s=40)\n",
    "\n",
    "plt.show()"
   ]
  },
  {
   "cell_type": "markdown",
   "metadata": {},
   "source": [
    "**Smoothing**"
   ]
  },
  {
   "cell_type": "markdown",
   "metadata": {},
   "source": [
    "*Animation*"
   ]
  },
  {
   "cell_type": "code",
   "execution_count": 637,
   "metadata": {},
   "outputs": [],
   "source": [
    "# for i in range(0, 2000):\n",
    "#     # x = np.random.rand(3, )\n",
    "#     # c1, r1 = getCircle([(x, x+3), (x+5, x+5), (x+6, x+4)])\n",
    "#     c1 = Circle(Point(0, 2), Point(3, 5), Point(6, 4))"
   ]
  }
 ],
 "metadata": {
  "kernelspec": {
   "display_name": "env",
   "language": "python",
   "name": "python3"
  },
  "language_info": {
   "codemirror_mode": {
    "name": "ipython",
    "version": 3
   },
   "file_extension": ".py",
   "mimetype": "text/x-python",
   "name": "python",
   "nbconvert_exporter": "python",
   "pygments_lexer": "ipython3",
   "version": "3.9.6"
  }
 },
 "nbformat": 4,
 "nbformat_minor": 2
}
