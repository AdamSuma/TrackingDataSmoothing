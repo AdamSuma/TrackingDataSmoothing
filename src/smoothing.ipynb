{
 "cells": [
  {
   "cell_type": "code",
   "execution_count": 1,
   "metadata": {},
   "outputs": [
    {
     "name": "stderr",
     "output_type": "stream",
     "text": [
      "/Users/safefleet/Desktop/Bachelor Thesis/.env/lib/python3.9/site-packages/urllib3/__init__.py:35: NotOpenSSLWarning: urllib3 v2 only supports OpenSSL 1.1.1+, currently the 'ssl' module is compiled with 'LibreSSL 2.8.3'. See: https://github.com/urllib3/urllib3/issues/3020\n",
      "  warnings.warn(\n"
     ]
    }
   ],
   "source": [
    "# %matplotlib widget\n",
    "\n",
    "import matplotlib.pyplot as plt\n",
    "import numpy as np\n",
    "from scipy.interpolate import CubicSpline\n",
    "from mplsoccer.pitch import Pitch\n",
    "import json\n",
    "import re\n",
    "import math\n",
    "from datetime import datetime, timedelta\n",
    "\n"
   ]
  },
  {
   "cell_type": "markdown",
   "metadata": {},
   "source": [
    "We partially read the big Frame file with the following function"
   ]
  },
  {
   "cell_type": "code",
   "execution_count": 2,
   "metadata": {},
   "outputs": [],
   "source": [
    "def read_json_partially(file_path, start_line, end_line):\n",
    "    data = []  # List to store extracted JSON objects\n",
    "\n",
    "    with open(file_path, 'r') as file:\n",
    "        for line_num, line in enumerate(file):\n",
    "            if line_num >= start_line and line_num <= end_line:\n",
    "                # Parse JSON from the line and append it to data\n",
    "                data.append(json.loads(line))\n",
    "            elif line_num > end_line:\n",
    "                break  # Stop reading once end_line is reached\n",
    "\n",
    "    return data\n"
   ]
  },
  {
   "cell_type": "code",
   "execution_count": 3,
   "metadata": {},
   "outputs": [],
   "source": [
    "start_line = 0  # Start line number\n",
    "end_line = 800  # End line number \n"
   ]
  },
  {
   "cell_type": "markdown",
   "metadata": {},
   "source": [
    "StatsPerform data"
   ]
  },
  {
   "cell_type": "code",
   "execution_count": 4,
   "metadata": {},
   "outputs": [],
   "source": [
    "targetPositions2 = []\n",
    "\n",
    "file_path2 = '../data/matches/vs FC Lugano/2023-12-06_StatsPerform_FC Lugano - FC fifa format Basel.txt'\n",
    "\n",
    "with open(file_path2, 'r') as file:\n",
    "    for index, frame in enumerate(file):\n",
    "        if(index < start_line):\n",
    "            continue\n",
    "        if(index > end_line):\n",
    "            break\n",
    "        if(index % 1 != 0): # We consider only every n-th frame\n",
    "            continue\n",
    "        f = re.split(',|;', frame)\n",
    "        for idx, val in enumerate(f):\n",
    "            if(val == \"552970\"):\n",
    "                targetPositions2.append([float(f[idx+2]), float(f[idx+3]), 0, datetime.strptime(f[1], \"%f\")])\n",
    "                break\n",
    "\n",
    "# print(targetPositions2[0])\n",
    "    # defining datapoints d_i = [x_Coordinate, y_Coordinate, speed, time]"
   ]
  },
  {
   "cell_type": "markdown",
   "metadata": {},
   "source": [
    "We extract trajectory of targeted player by **ID**\n",
    "\n",
    "**ReSpo**"
   ]
  },
  {
   "cell_type": "code",
   "execution_count": 5,
   "metadata": {},
   "outputs": [],
   "source": [
    "file_path = '../data/matches/vs FC Lugano/2023-12-06_ReSpo Vision_FC Lugano - FC Basel.jsonl'\n",
    "partialframes = read_json_partially(file_path, start_line, end_line)\n",
    "\n",
    "targetID = 27\n",
    "targetPositions = []\n",
    "\n",
    "for index, frame in enumerate(partialframes):\n",
    "    if(index % 1 != 0): # We consider only every n-th frame\n",
    "        continue\n",
    "\n",
    "    player = list(filter(lambda player: player['person_id'] == targetID, frame['players']))[0]\n",
    "\n",
    "    # defining datapoints d_i = [x_Coordinate, y_Coordinate, speed, time]\n",
    "    targetPositions.append([player['x'], player['y'], player['speed'], datetime.strptime(frame['time'], \"%M:%S.%f\")])\n"
   ]
  },
  {
   "cell_type": "markdown",
   "metadata": {},
   "source": [
    "**Skillcorner**"
   ]
  },
  {
   "cell_type": "code",
   "execution_count": 6,
   "metadata": {},
   "outputs": [],
   "source": []
  },
  {
   "cell_type": "code",
   "execution_count": 7,
   "metadata": {},
   "outputs": [],
   "source": [
    "# takes as input array of length 3\n",
    "def getCircle(points):\n",
    "    assert(len(points) == 3)\n",
    "    x1, y1 = points[0]\n",
    "    x2, y2 = points[1]\n",
    "    x3, y3 = points[2]\n",
    "    s1 = x1**2 + y1**2\n",
    "    s2 = x2**2 + y2**2\n",
    "    s3 = x3**2 + y3**2\n",
    "    M11 = x1*y2 + x2*y3 + x3*y1 - (x2*y1 + x3*y2 + x1*y3)\n",
    "    M12 = s1*y2 + s2*y3 + s3*y1 - (s2*y1 + s3*y2 + s1*y3)\n",
    "    M13 = s1*x2 + s2*x3 + s3*x1 - (s2*x1 + s3*x2 + s1*x3)\n",
    "    x0 =  0.5*M12/M11\n",
    "    y0 = -0.5*M13/M11\n",
    "    r0 = ((x1 - x0)**2 + (y1 - y0)**2)**0.5\n",
    "    return ((x0, y0), r0)"
   ]
  },
  {
   "cell_type": "markdown",
   "metadata": {},
   "source": [
    "source: https://paulbourke.net/geometry/circlesphere/"
   ]
  },
  {
   "cell_type": "code",
   "execution_count": 8,
   "metadata": {},
   "outputs": [],
   "source": [
    "def getCircleIntersections(c0, r0, c1, r1):\n",
    "    x0, y0 = c0\n",
    "    x1, y1 = c1\n",
    "    d = math.sqrt((x1-x0)**2 + (y1-y0)**2)\n",
    "    \n",
    "    # non intersecting\n",
    "    if d > r0 + r1 :\n",
    "        return None\n",
    "    # One circle within other\n",
    "    if d < abs(r0-r1):\n",
    "        return None\n",
    "    # coincident circles\n",
    "    if d == 0 and r0 == r1:\n",
    "        return None\n",
    "    else:\n",
    "        a=(r0**2-r1**2+d**2)/(2*d)\n",
    "        h=math.sqrt(r0**2-a**2)\n",
    "        x2=x0+a*(x1-x0)/d   \n",
    "        y2=y0+a*(y1-y0)/d   \n",
    "        x3=x2+h*(y1-y0)/d     \n",
    "        y3=y2-h*(x1-x0)/d \n",
    "\n",
    "        x4=x2-h*(y1-y0)/d\n",
    "        y4=y2+h*(x1-x0)/d\n",
    "        \n",
    "        return ((x3, y3), (x4, y4))"
   ]
  },
  {
   "cell_type": "code",
   "execution_count": 9,
   "metadata": {},
   "outputs": [],
   "source": [
    "def euclidianDistance(p1, p2):\n",
    "    return math.sqrt((p1[0]-p2[0])**2 + (p1[1]-p2[1])**2)"
   ]
  },
  {
   "cell_type": "code",
   "execution_count": 10,
   "metadata": {},
   "outputs": [],
   "source": [
    "def closestPoint(p1, p2, p3, p4):\n",
    "    if(euclidianDistance(p1, p3) + euclidianDistance(p1, p4) < euclidianDistance(p2, p3) + euclidianDistance(p2, p4)):\n",
    "        return p1\n",
    "    else:\n",
    "        return p2"
   ]
  },
  {
   "cell_type": "code",
   "execution_count": 11,
   "metadata": {},
   "outputs": [],
   "source": [
    "def areCollinear(p1, p2, p3):\n",
    "    x1, y1 = p2[0] - p1[0], p2[1] - p1[1]\n",
    "    x2, y2 = p3[0] - p1[0], p3[1] - p1[1]\n",
    "    return abs(x1 * y2 - x2 * y1) < 1e-12"
   ]
  },
  {
   "cell_type": "code",
   "execution_count": 12,
   "metadata": {},
   "outputs": [],
   "source": [
    "def midPoint(p1, p2):\n",
    "    return ((p1[0] + p2[0])/2, (p1[1] + p2[1])/2)"
   ]
  },
  {
   "cell_type": "code",
   "execution_count": 13,
   "metadata": {},
   "outputs": [],
   "source": [
    "def getAngle(p1, p2, p3):\n",
    "    a = np.array([p1[0], p1[1]])\n",
    "    b = np.array([p2[0], p2[1]])\n",
    "    c = np.array([p3[0], p3[1]])\n",
    "    ba = a - b\n",
    "    bc = c - b\n",
    "\n",
    "    cosine_angle = np.dot(ba, bc) / (np.linalg.norm(ba) * np.linalg.norm(bc))\n",
    "    angle = np.arccos(cosine_angle)\n",
    "    assert(angle <= 2*math.pi and angle >= 0)\n",
    "    return angle"
   ]
  },
  {
   "cell_type": "markdown",
   "metadata": {},
   "source": [
    "The following function computes the interpolated new_points according to the definition given in the written report."
   ]
  },
  {
   "cell_type": "code",
   "execution_count": 14,
   "metadata": {},
   "outputs": [],
   "source": [
    "def computeNewPoints(datapoints):\n",
    "    new_points = []\n",
    "    trajectory = list(map(lambda x: x[:2], datapoints)) \n",
    "    n = len(trajectory)\n",
    "\n",
    "    for i in range(1, n-2):\n",
    "        if(i == 1):\n",
    "            p1 = trajectory[i]\n",
    "            p2 = trajectory[i+1]\n",
    "            # We assume that between frames the time interval is kept constant. If this is not the case move t12 and t12delta outside of the if statement\n",
    "            t12 = (datapoints[i+1][3] - datapoints[i][3]).total_seconds()\n",
    "            t12delta = timedelta(seconds=t12/2)\n",
    "            col1 = areCollinear(trajectory[i-1], p1, p2)            \n",
    "        else:\n",
    "            p1 = p2\n",
    "            c1 = c2\n",
    "            r1 = r2\n",
    "            col1 = col2\n",
    "    \n",
    "        p2 = trajectory[i+1]\n",
    "        M = midPoint(p1, p2)\n",
    "        \n",
    "        # handling collinear points\n",
    "        col2 = areCollinear(trajectory[i+2], p1, p2)\n",
    "\n",
    "        if(not(col1 or col2)):\n",
    "            if(i == 1):\n",
    "                c1, r1 = getCircle(trajectory[i-1: i+2])\n",
    "            c2, r2 = getCircle(trajectory[i: i+3])\n",
    "            r = 2/(1/r1 + 1/r2)\n",
    "\n",
    "        elif(col1 and col2):\n",
    "            new_point = M\n",
    "            new_points.append([new_point[0], new_point[1]] + [euclidianDistance(p1, p2)/t12, datapoints[i][3] + t12delta])\n",
    "            c2 = (0, 0)\n",
    "            r2 = float('inf')\n",
    "            continue\n",
    "\n",
    "        elif(col1):\n",
    "            c2, r2 = getCircle(trajectory[i: i+3])\n",
    "            c1 = (0, 0)\n",
    "            r1 = float('inf')\n",
    "            r = 2/(1/r2)\n",
    "\n",
    "        elif(col2):\n",
    "            if(i == 1):\n",
    "                c1, r1 = getCircle(trajectory[i-1: i+2])\n",
    "            c2 = (0, 0)\n",
    "            r2 = float('inf')\n",
    "            r = 2/(1/r1)\n",
    "\n",
    "        # intersecting the averaging circles\n",
    "        c_avg1, c_avg2 = getCircleIntersections(p1, r, p2, r)\n",
    "\n",
    "        # if different oriented curvature in the sequential circles than take the shape of the one with the smallest radius\n",
    "        min_c = c1 if r1 < r2 else c2\n",
    "        c_avg = c_avg1 if euclidianDistance(c_avg1, min_c) < euclidianDistance(c_avg2, min_c) else c_avg2\n",
    "        \n",
    "        # computing new point\n",
    "        d = r/euclidianDistance(M, c_avg)\n",
    "        new_point_1 = np.array(c_avg) + (np.array(M)-np.array(c_avg))*d\n",
    "        new_point_2 = np.array(c_avg) + (np.array(M)-np.array(c_avg))*(-d)\n",
    "\n",
    "        new_point = closestPoint(new_point_1, new_point_2, p1, p2)\n",
    "        new_point = [new_point[0], new_point[1], r*getAngle(p1, c_avg, p2)/t12, datapoints[i][3] + t12delta]\n",
    "\n",
    "        new_points.append(new_point)\n",
    "\n",
    "    return new_points\n"
   ]
  },
  {
   "cell_type": "markdown",
   "metadata": {},
   "source": [
    "**performSmoothing** works in each iteration the following way:<br>\n",
    "<br>\n",
    "                1. The interpolated new_points from the **original trajectory** are computed (case i % 2 == 0) <br>\n",
    "                2. The updated trajectory is computed as interpolated new_points of the previously computed new_point <br>\n",
    "    \n",
    "In both cases we extend the trajectories that we pass to the computeNewPoints function,\n",
    "so that all original points except the first and last get updated every iteration."
   ]
  },
  {
   "cell_type": "code",
   "execution_count": 15,
   "metadata": {},
   "outputs": [],
   "source": [
    "def performSmoothing(datapoints, iterations):\n",
    "    \n",
    "    # compute extension points at the beginning/end of the trajectory\n",
    "    pFirst = [2*datapoints[0][0] - datapoints[1][0], 2*datapoints[0][1] - datapoints[1][1], 0, datapoints[0][3] - (datapoints[1][3] - datapoints[0][3])]\n",
    "    pLast = [2*datapoints[-1][0] - datapoints[-2][0], 2*datapoints[-1][1] - datapoints[-2][1], 0, datapoints[-1][3] + (datapoints[-1][3] - datapoints[-2][3])]\n",
    "    midFirst = midPoint(pFirst, datapoints[0])\n",
    "    midLast = midPoint(datapoints[-1], pLast)\n",
    "    midFirst = [midFirst[0], midFirst[1], 0, datapoints[0][3] - (datapoints[1][3] - datapoints[0][3])/2]\n",
    "    midLast = [midLast[0], midLast[1], 0, datapoints[-1][3] + (datapoints[-1][3] - datapoints[-2][3])/2]\n",
    "\n",
    "    for _ in range(0, iterations):\n",
    "        for i in range(0, 2):\n",
    "            if(i % 2 != 0):\n",
    "                og = datapoints.copy()\n",
    "                updated_datapoints = computeNewPoints([midFirst] + new_points + [midLast])\n",
    "                datapoints = [og[0]] + updated_datapoints + [og[-1]]\n",
    "            else:\n",
    "                new_points = computeNewPoints([pFirst] + datapoints + [pLast])\n",
    "    return datapoints"
   ]
  },
  {
   "cell_type": "markdown",
   "metadata": {},
   "source": [
    "Current file has granularity of **40ms**"
   ]
  },
  {
   "cell_type": "code",
   "execution_count": 16,
   "metadata": {},
   "outputs": [
    {
     "data": {
      "image/png": "[encoded data removed]",
      "text/plain": [
       "<Figure size 1000x2000 with 1 Axes>"
      ]
     },
     "metadata": {},
     "output_type": "display_data"
    }
   ],
   "source": [
    "# pitch = Pitch(axis=True, label=True, tick=True, pitch_length=105, pitch_width=68)\n",
    "# # specifying figure size (width, height)\n",
    "# fig, ax = pitch.draw(figsize=(10, 20))\n",
    "\n",
    "# x, y, s, t = zip(*targetPositions)\n",
    "# ax.scatter(x, y, color='black', marker='o', s=20)\n",
    "# pFirst = (2*targetPositions[0][0] - targetPositions[1][0], 2*targetPositions[0][1] - targetPositions[1][1])\n",
    "# pLast = (2*targetPositions[-1][0] - targetPositions[-2][0], 2*targetPositions[-1][1] - targetPositions[-2][1])\n",
    "\n",
    "\n",
    "# ax.set_xlim(50, 60) \n",
    "# ax.set_ylim(40, 30)\n",
    "\n",
    "# print(targetPositions[-1])\n",
    "# print(targetPositions2[-1])\n",
    "\n",
    "# traj = performSmoothing(datapoints=targetPositions2, iterations=1000)\n",
    "# x, y, s, t = zip(*(traj))\n",
    "\n",
    "# for idx, t in enumerate(traj):\n",
    "#     ax.scatter(t[0], t[1], color=\"purple\", marker=\"o\", s=10)\n",
    "    # ax.text(t[0], t[1], f'(smoothened speed:{t[2]}) original: {targetPositions[idx][2]}')\n",
    "\n",
    "\n",
    "# ax.scatter(pFirst[0], pFirst[1], color=\"green\", marker=\"x\", s=10)\n",
    "# ax.scatter(pLast[0], pLast[1], color=\"green\", marker=\"x\", s=10)\n",
    "\n",
    "# x, y = zip(*(new_points))\n",
    "# ax.scatter(x, y, color=\"green\", marker=\"o\", s=40)\n",
    "\n",
    "# plt.show()"
   ]
  },
  {
   "cell_type": "markdown",
   "metadata": {},
   "source": [
    "distance produced from original points, at some point distance will become very large, and gain in smoothness will be marginal\n",
    "so try to smooth the speed as much as possible without moving the points as much as possible\n",
    "\n",
    "speed time series\n",
    "distance time series\n",
    "\n",
    "Dynamic time warping \n",
    "**Lock step distance**\n",
    "\n",
    "frechet distance \n",
    "haussdorff distance\n",
    "\n",
    "quantifying volatility - similarities to stock trading\n",
    "\n",
    "automatic event detection in football using tracking data ferran vidal-codina\n",
    "\n",
    "(adaptive subsampling)"
   ]
  },
  {
   "cell_type": "markdown",
   "metadata": {},
   "source": []
  }
 ],
 "metadata": {
  "kernelspec": {
   "display_name": "env",
   "language": "python",
   "name": "python3"
  },
  "language_info": {
   "codemirror_mode": {
    "name": "ipython",
    "version": 3
   },
   "file_extension": ".py",
   "mimetype": "text/x-python",
   "name": "python",
   "nbconvert_exporter": "python",
   "pygments_lexer": "ipython3",
   "version": "3.9.6"
  }
 },
 "nbformat": 4,
 "nbformat_minor": 2
}
