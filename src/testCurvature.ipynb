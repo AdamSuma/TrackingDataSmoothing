{
 "cells": [
  {
   "cell_type": "code",
   "execution_count": 5,
   "metadata": {},
   "outputs": [
    {
     "name": "stdout",
     "output_type": "stream",
     "text": [
      "nan\n"
     ]
    },
    {
     "name": "stderr",
     "output_type": "stream",
     "text": [
      "/var/folders/kx/45_n67vs6_z3s8j5019ns3qw0000gn/T/ipykernel_70594/1692360995.py:7: RuntimeWarning: invalid value encountered in arccos\n",
      "  print(np.arccos(1.00000001))\n"
     ]
    }
   ],
   "source": [
    "# from smoothingWithCurvatureSigns import getCircle, getSignOfMovement\n",
    "\n",
    "# print(getCircle([[1,0], [0,1], [-1,0]]))\n",
    "\n",
    "# print(getSignOfMovement((0, 0), [1,0], [0,-1]))\n",
    "import numpy as np\n",
    "print(np.arccos(1.00000001))"
   ]
  },
  {
   "cell_type": "code",
   "execution_count": 9,
   "metadata": {},
   "outputs": [],
   "source": [
    "def getMovementSign(center, p1, p2): # takes as input the center of the circle and two points on the circle, returns -1 if the movement is clockwise and 1 if it is counterclockwise\n",
    "    c = np.array(center)\n",
    "    p1 = np.array(p1)\n",
    "    p2 = np.array(p2)\n",
    "    return -1 if np.cross(p1-c, p2-c) < 0 else 1\n",
    "\n",
    "def getMovementSignFaster(c, p1, p2): # takes as input the center of the circle and two points on the circle, returns -1 if the movement is clockwise and 1 if it is counterclockwise\n",
    "    \n",
    "    return -1 if (p1[0]-c[0])*(p2[1]-c[1]) - (p1[1]-c[1])*(p2[0]-c[0])< 0 else 1\n"
   ]
  },
  {
   "cell_type": "code",
   "execution_count": 11,
   "metadata": {},
   "outputs": [
    {
     "name": "stdout",
     "output_type": "stream",
     "text": [
      "1\n"
     ]
    }
   ],
   "source": [
    "print(getMovementSign((0, 0), [1,0], [0,1]))"
   ]
  }
 ],
 "metadata": {
  "kernelspec": {
   "display_name": ".env",
   "language": "python",
   "name": "python3"
  },
  "language_info": {
   "codemirror_mode": {
    "name": "ipython",
    "version": 3
   },
   "file_extension": ".py",
   "mimetype": "text/x-python",
   "name": "python",
   "nbconvert_exporter": "python",
   "pygments_lexer": "ipython3",
   "version": "3.9.6"
  }
 },
 "nbformat": 4,
 "nbformat_minor": 2
}
